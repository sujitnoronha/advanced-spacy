{
 "cells": [
  {
   "cell_type": "code",
   "execution_count": 2,
   "metadata": {},
   "outputs": [],
   "source": [
    "import spacy"
   ]
  },
  {
   "cell_type": "code",
   "execution_count": 3,
   "metadata": {},
   "outputs": [],
   "source": [
    "nlp = spacy.load('en_core_web_md')"
   ]
  },
  {
   "cell_type": "code",
   "execution_count": 4,
   "metadata": {},
   "outputs": [],
   "source": [
    "doc1 = nlp('wolf')"
   ]
  },
  {
   "cell_type": "code",
   "execution_count": 5,
   "metadata": {},
   "outputs": [],
   "source": [
    "doc2 = nlp('dog')"
   ]
  },
  {
   "cell_type": "code",
   "execution_count": 6,
   "metadata": {},
   "outputs": [
    {
     "data": {
      "text/plain": [
       "0.5206573188004238"
      ]
     },
     "execution_count": 6,
     "metadata": {},
     "output_type": "execute_result"
    }
   ],
   "source": [
    "doc1.similarity(doc2)"
   ]
  },
  {
   "cell_type": "code",
   "execution_count": 9,
   "metadata": {},
   "outputs": [],
   "source": [
    "doc3 = nlp('doggy')"
   ]
  },
  {
   "cell_type": "code",
   "execution_count": 10,
   "metadata": {},
   "outputs": [
    {
     "data": {
      "text/plain": [
       "0.5941509020574803"
      ]
     },
     "execution_count": 10,
     "metadata": {},
     "output_type": "execute_result"
    }
   ],
   "source": [
    " doc3.similarity(doc2)"
   ]
  },
  {
   "cell_type": "code",
   "execution_count": 11,
   "metadata": {},
   "outputs": [
    {
     "data": {
      "text/plain": [
       "0.6583483001100774"
      ]
     },
     "execution_count": 11,
     "metadata": {},
     "output_type": "execute_result"
    }
   ],
   "source": [
    "doc4 = nlp('smart')\n",
    "doc5 = nlp('clever')\n",
    "doc4.similarity(doc5)"
   ]
  },
  {
   "cell_type": "code",
   "execution_count": 12,
   "metadata": {},
   "outputs": [],
   "source": [
    "ex1 = nlp('wolf dog cat bird fish')"
   ]
  },
  {
   "cell_type": "code",
   "execution_count": 13,
   "metadata": {},
   "outputs": [
    {
     "name": "stdout",
     "output_type": "stream",
     "text": [
      "('wolf', 'wolf') similarity => 1.0\n",
      "('wolf', 'dog') similarity => 0.5206573\n",
      "('wolf', 'cat') similarity => 0.5081626\n",
      "('wolf', 'bird') similarity => 0.4971482\n",
      "('wolf', 'fish') similarity => 0.36875135\n",
      "('dog', 'wolf') similarity => 0.5206573\n",
      "('dog', 'dog') similarity => 1.0\n",
      "('dog', 'cat') similarity => 0.80168545\n",
      "('dog', 'bird') similarity => 0.4787552\n",
      "('dog', 'fish') similarity => 0.40854338\n",
      "('cat', 'wolf') similarity => 0.5081626\n",
      "('cat', 'dog') similarity => 0.80168545\n",
      "('cat', 'cat') similarity => 1.0\n",
      "('cat', 'bird') similarity => 0.5236873\n",
      "('cat', 'fish') similarity => 0.41806534\n",
      "('bird', 'wolf') similarity => 0.4971482\n",
      "('bird', 'dog') similarity => 0.4787552\n",
      "('bird', 'cat') similarity => 0.5236873\n",
      "('bird', 'bird') similarity => 1.0\n",
      "('bird', 'fish') similarity => 0.5582421\n",
      "('fish', 'wolf') similarity => 0.36875135\n",
      "('fish', 'dog') similarity => 0.40854338\n",
      "('fish', 'cat') similarity => 0.41806534\n",
      "('fish', 'bird') similarity => 0.5582421\n",
      "('fish', 'fish') similarity => 1.0\n"
     ]
    }
   ],
   "source": [
    "for token1 in ex1:\n",
    "    for token2 in ex1:\n",
    "        print((token1.text, token2.text),\"similarity =>\", token1.similarity(token2))"
   ]
  },
  {
   "cell_type": "code",
   "execution_count": null,
   "metadata": {},
   "outputs": [],
   "source": [
    "  "
   ]
  }
 ],
 "metadata": {
  "kernelspec": {
   "display_name": "Python 3",
   "language": "python",
   "name": "python3"
  },
  "language_info": {
   "codemirror_mode": {
    "name": "ipython",
    "version": 3
   },
   "file_extension": ".py",
   "mimetype": "text/x-python",
   "name": "python",
   "nbconvert_exporter": "python",
   "pygments_lexer": "ipython3",
   "version": "3.7.3"
  }
 },
 "nbformat": 4,
 "nbformat_minor": 4
}
