{
 "cells": [
  {
   "cell_type": "code",
   "execution_count": 2,
   "metadata": {},
   "outputs": [],
   "source": [
    "import spacy"
   ]
  },
  {
   "cell_type": "code",
   "execution_count": 3,
   "metadata": {},
   "outputs": [],
   "source": [
    "nlp = spacy.load('en_core_web_md')"
   ]
  },
  {
   "cell_type": "code",
   "execution_count": 4,
   "metadata": {},
   "outputs": [],
   "source": [
    "doc1 = nlp('wolf')"
   ]
  },
  {
   "cell_type": "code",
   "execution_count": 5,
   "metadata": {},
   "outputs": [],
   "source": [
    "doc2 = nlp('dog')"
   ]
  },
  {
   "cell_type": "code",
   "execution_count": 6,
   "metadata": {},
   "outputs": [
    {
     "data": {
      "text/plain": [
       "0.5206573188004238"
      ]
     },
     "execution_count": 6,
     "metadata": {},
     "output_type": "execute_result"
    }
   ],
   "source": [
    "doc1.similarity(doc2)"
   ]
  },
  {
   "cell_type": "code",
   "execution_count": 9,
   "metadata": {},
   "outputs": [],
   "source": [
    "doc3 = nlp('doggy')"
   ]
  },
  {
   "cell_type": "code",
   "execution_count": 10,
   "metadata": {},
   "outputs": [
    {
     "data": {
      "text/plain": [
       "0.5941509020574803"
      ]
     },
     "execution_count": 10,
     "metadata": {},
     "output_type": "execute_result"
    }
   ],
   "source": [
    " doc3.similarity(doc2)"
   ]
  },
  {
   "cell_type": "code",
   "execution_count": 11,
   "metadata": {},
   "outputs": [
    {
     "data": {
      "text/plain": [
       "0.6583483001100774"
      ]
     },
     "execution_count": 11,
     "metadata": {},
     "output_type": "execute_result"
    }
   ],
   "source": [
    "doc4 = nlp('smart')\n",
    "doc5 = nlp('clever')\n",
    "doc4.similarity(doc5)"
   ]
  },
  {
   "cell_type": "code",
   "execution_count": 12,
   "metadata": {},
   "outputs": [],
   "source": [
    "ex1 = nlp('wolf dog cat bird fish')"
   ]
  },
  {
   "cell_type": "code",
   "execution_count": 13,
   "metadata": {},
   "outputs": [
    {
     "name": "stdout",
     "output_type": "stream",
     "text": [
      "('wolf', 'wolf') similarity => 1.0\n",
      "('wolf', 'dog') similarity => 0.5206573\n",
      "('wolf', 'cat') similarity => 0.5081626\n",
      "('wolf', 'bird') similarity => 0.4971482\n",
      "('wolf', 'fish') similarity => 0.36875135\n",
      "('dog', 'wolf') similarity => 0.5206573\n",
      "('dog', 'dog') similarity => 1.0\n",
      "('dog', 'cat') similarity => 0.80168545\n",
      "('dog', 'bird') similarity => 0.4787552\n",
      "('dog', 'fish') similarity => 0.40854338\n",
      "('cat', 'wolf') similarity => 0.5081626\n",
      "('cat', 'dog') similarity => 0.80168545\n",
      "('cat', 'cat') similarity => 1.0\n",
      "('cat', 'bird') similarity => 0.5236873\n",
      "('cat', 'fish') similarity => 0.41806534\n",
      "('bird', 'wolf') similarity => 0.4971482\n",
      "('bird', 'dog') similarity => 0.4787552\n",
      "('bird', 'cat') similarity => 0.5236873\n",
      "('bird', 'bird') similarity => 1.0\n",
      "('bird', 'fish') similarity => 0.5582421\n",
      "('fish', 'wolf') similarity => 0.36875135\n",
      "('fish', 'dog') similarity => 0.40854338\n",
      "('fish', 'cat') similarity => 0.41806534\n",
      "('fish', 'bird') similarity => 0.5582421\n",
      "('fish', 'fish') similarity => 1.0\n"
     ]
    }
   ],
   "source": [
    "for token1 in ex1:\n",
    "    for token2 in ex1:\n",
    "        print((token1.text, token2.text),\"similarity =>\", token1.similarity(token2))"
   ]
  },
  {
   "cell_type": "code",
   "execution_count": 14,
   "metadata": {},
   "outputs": [],
   "source": [
    "  from spacy.lang.en.stop_words import STOP_WORDS"
   ]
  },
  {
   "cell_type": "code",
   "execution_count": 15,
   "metadata": {},
   "outputs": [
    {
     "name": "stdout",
     "output_type": "stream",
     "text": [
      "{'’ll', 'during', 'of', 'she', 'their', 'although', 'between', 'otherwise', 'same', 'its', 'most', 'formerly', 'whereafter', 'used', 'whoever', '‘m', 'each', 'they', 'now', 'next', 'others', 'already', 'once', 'other', 'up', 'than', 'fifteen', 'after', 'please', 'with', 'always', 'these', 'whither', 'some', 'hence', 'below', 'why', 'as', 'top', 'n’t', 'few', 'very', 'anyway', 'within', 'just', 'myself', 'becomes', 'see', 'keep', 'four', 'from', 'herself', 'sometime', 'unless', 'is', 'together', 'ca', 'an', 'he', 'latterly', 'could', 'both', 'because', 'my', 'only', 'besides', 'someone', 'at', '‘d', 'afterwards', 'us', \"'ll\", 'there', 'being', 'make', 'via', '’d', 'whom', 'become', \"'d\", '’re', 'enough', 'say', 'everyone', 'elsewhere', 'hundred', 'noone', 'were', 'thereby', 'have', 'either', 'out', 'if', 'well', 'nor', 'show', 'hereafter', 'this', 'give', 'did', 'before', 'using', 'somehow', 'hereby', 'down', 'that', 'empty', 'then', 'beforehand', 'else', 'rather', 'amongst', 'such', 'but', 'whatever', 'whenever', 'meanwhile', 'yet', 'ever', 'himself', 'does', 'anyone', 'sometimes', 'nobody', 'should', 'been', 'must', 'somewhere', 'under', 're', 'thereafter', 'since', 'namely', 'bottom', 'six', 'would', 'often', 'every', 'indeed', 'something', 'until', 'had', 'without', 'latter', 'nothing', 'serious', \"'s\", 'eleven', 'also', 'doing', 'seems', '‘re', 'whereby', 'however', 'do', 'one', 'about', 'thence', 'you', 'much', 'various', 'wherever', 'first', 'more', 'themselves', 'your', 'n‘t', 'what', 'perhaps', 'around', 'nowhere', 'regarding', 'further', 'twelve', 'hers', 'them', 'move', 'own', 'put', 'can', 'may', 'might', 'fifty', 'toward', 'itself', 'name', 'yourselves', 'several', 'former', '’m', '‘ve', 'less', 'even', \"'ve\", 'a', 'per', 'five', 'though', 'seem', 'off', 'mostly', 'beside', 'and', 'yourself', 'almost', 'not', 'anywhere', 'thus', 'no', 'we', 'twenty', 'alone', 'back', 'done', 'full', 'by', '’ve', 'go', 'call', 'side', 'was', 'neither', 'be', 'in', 'those', 'against', 'due', \"'re\", 'whether', '‘s', 'get', 'wherein', 'thereupon', 'everywhere', 'except', 'am', 'quite', 'many', 'part', 'along', 'among', 'has', 'for', 'her', 'cannot', 'two', 'third', 'thru', 'to', 'therefore', 'became', 'least', 'when', 'over', 'who', 'anything', 'eight', 'me', 'whole', 'nine', 'forty', 'whereas', 'none', 'too', 'which', 'here', 'towards', 'behind', 'three', 'so', 'are', 'never', 'nevertheless', 'the', 'hereupon', 'whereupon', 'onto', 'ten', 'how', 'where', 'upon', 'into', 'his', 'i', 'ourselves', \"'m\", 'all', 'him', 'therein', 'throughout', 'above', 'across', 'on', 'whence', \"n't\", 'amount', 'it', 'through', 'anyhow', 'while', 'everything', 'our', 'moreover', 'front', 'last', 'mine', 'herein', 'yours', 'another', 'any', 'made', 'again', '‘ll', 'beyond', 'really', 'or', 'will', 'whose', 'ours', 'becoming', 'take', '’s', 'sixty', 'seemed', 'still', 'seeming'}\n"
     ]
    }
   ],
   "source": [
    "print(STOP_WORDS)"
   ]
  },
  {
   "cell_type": "code",
   "execution_count": 17,
   "metadata": {},
   "outputs": [
    {
     "data": {
      "text/plain": [
       "326"
      ]
     },
     "execution_count": 17,
     "metadata": {},
     "output_type": "execute_result"
    }
   ],
   "source": [
    "len(STOP_WORDS)"
   ]
  },
  {
   "cell_type": "code",
   "execution_count": 18,
   "metadata": {},
   "outputs": [
    {
     "data": {
      "text/plain": [
       "True"
      ]
     },
     "execution_count": 18,
     "metadata": {},
     "output_type": "execute_result"
    }
   ],
   "source": [
    "nlp.vocab['the'].is_stop"
   ]
  },
  {
   "cell_type": "code",
   "execution_count": 19,
   "metadata": {},
   "outputs": [
    {
     "data": {
      "text/plain": [
       "False"
      ]
     },
     "execution_count": 19,
     "metadata": {},
     "output_type": "execute_result"
    }
   ],
   "source": [
    "nlp.vocab['theme'].is_stop"
   ]
  },
  {
   "cell_type": "code",
   "execution_count": 20,
   "metadata": {},
   "outputs": [],
   "source": [
    "mysentence = nlp(u\"This is a sentence about how to use stopwords in natural language processing\")"
   ]
  },
  {
   "cell_type": "code",
   "execution_count": 21,
   "metadata": {},
   "outputs": [
    {
     "name": "stdout",
     "output_type": "stream",
     "text": [
      "This\n",
      "is\n",
      "a\n",
      "about\n",
      "how\n",
      "to\n",
      "in\n"
     ]
    }
   ],
   "source": [
    "for word in mysentence:\n",
    "    if word.is_stop == True:\n",
    "        print(word)"
   ]
  },
  {
   "cell_type": "code",
   "execution_count": 22,
   "metadata": {},
   "outputs": [],
   "source": [
    "#how to add stop words"
   ]
  },
  {
   "cell_type": "code",
   "execution_count": 23,
   "metadata": {},
   "outputs": [],
   "source": [
    "STOP_WORDS.add('lol')"
   ]
  },
  {
   "cell_type": "code",
   "execution_count": 26,
   "metadata": {},
   "outputs": [
    {
     "data": {
      "text/plain": [
       "True"
      ]
     },
     "execution_count": 26,
     "metadata": {},
     "output_type": "execute_result"
    }
   ],
   "source": [
    "nlp.vocab['lol'].is_stop"
   ]
  },
  {
   "cell_type": "code",
   "execution_count": 27,
   "metadata": {},
   "outputs": [],
   "source": [
    "STOP_WORDS.remove('lol')"
   ]
  },
  {
   "cell_type": "code",
   "execution_count": null,
   "metadata": {},
   "outputs": [],
   "source": []
  }
 ],
 "metadata": {
  "kernelspec": {
   "display_name": "Python 3",
   "language": "python",
   "name": "python3"
  },
  "language_info": {
   "codemirror_mode": {
    "name": "ipython",
    "version": 3
   },
   "file_extension": ".py",
   "mimetype": "text/x-python",
   "name": "python",
   "nbconvert_exporter": "python",
   "pygments_lexer": "ipython3",
   "version": "3.7.3"
  }
 },
 "nbformat": 4,
 "nbformat_minor": 4
}
