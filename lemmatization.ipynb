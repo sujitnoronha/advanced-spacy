{
 "cells": [
  {
   "cell_type": "code",
   "execution_count": 1,
   "metadata": {},
   "outputs": [],
   "source": [
    "import spacy"
   ]
  },
  {
   "cell_type": "code",
   "execution_count": 2,
   "metadata": {},
   "outputs": [],
   "source": [
    "nlp = spacy.load('en_core_web_sm')"
   ]
  },
  {
   "cell_type": "code",
   "execution_count": 3,
   "metadata": {},
   "outputs": [],
   "source": [
    "docx= nlp('study studying studious studio student')"
   ]
  },
  {
   "cell_type": "code",
   "execution_count": 4,
   "metadata": {},
   "outputs": [
    {
     "name": "stdout",
     "output_type": "stream",
     "text": [
      "study study VERB\n",
      "studying study VERB\n",
      "studious studious ADJ\n",
      "studio studio NOUN\n",
      "student student NOUN\n"
     ]
    }
   ],
   "source": [
    "for word in docx:\n",
    "    print(word.text, word.lemma_, word.pos_)"
   ]
  },
  {
   "cell_type": "code",
   "execution_count": 5,
   "metadata": {},
   "outputs": [],
   "source": [
    "docx2 = nlp('walking walk walks walker')"
   ]
  },
  {
   "cell_type": "code",
   "execution_count": 6,
   "metadata": {},
   "outputs": [
    {
     "name": "stdout",
     "output_type": "stream",
     "text": [
      "walking walk VERB\n",
      "walk walk NOUN\n",
      "walks walk VERB\n",
      "walker walker PROPN\n"
     ]
    }
   ],
   "source": [
    "for word in docx2:\n",
    "    print(word.text, word.lemma_, word.pos_)"
   ]
  },
  {
   "cell_type": "code",
   "execution_count": 7,
   "metadata": {},
   "outputs": [],
   "source": [
    "docx3 = nlp('good goods run running runner runny was be were')"
   ]
  },
  {
   "cell_type": "code",
   "execution_count": 8,
   "metadata": {},
   "outputs": [
    {
     "name": "stdout",
     "output_type": "stream",
     "text": [
      "good good ADJ\n",
      "goods good NOUN\n",
      "run run VERB\n",
      "running run VERB\n",
      "runner runner NOUN\n",
      "runny runny NOUN\n",
      "was be AUX\n",
      "be be AUX\n",
      "were be AUX\n"
     ]
    }
   ],
   "source": [
    "for word in docx3:\n",
    "    print(word.text, word.lemma_, word.pos_)"
   ]
  },
  {
   "cell_type": "code",
   "execution_count": 9,
   "metadata": {},
   "outputs": [],
   "source": [
    "ex1 = nlp('He drinks a drink')"
   ]
  },
  {
   "cell_type": "code",
   "execution_count": 10,
   "metadata": {},
   "outputs": [
    {
     "name": "stdout",
     "output_type": "stream",
     "text": [
      "He 95\n",
      "drinks 100\n",
      "a 90\n",
      "drink 92\n"
     ]
    }
   ],
   "source": [
    "for word in ex1:\n",
    "    print(word.text, word.pos, )"
   ]
  },
  {
   "cell_type": "code",
   "execution_count": 11,
   "metadata": {},
   "outputs": [],
   "source": [
    "ex2 = nlp('I fish a fish')"
   ]
  },
  {
   "cell_type": "code",
   "execution_count": 12,
   "metadata": {},
   "outputs": [
    {
     "name": "stdout",
     "output_type": "stream",
     "text": [
      "I PRON\n",
      "fish VERB\n",
      "a DET\n",
      "fish NOUN\n"
     ]
    }
   ],
   "source": [
    "for word in ex2:\n",
    "    print(word.text, word.pos_)"
   ]
  },
  {
   "cell_type": "code",
   "execution_count": 13,
   "metadata": {},
   "outputs": [
    {
     "name": "stdout",
     "output_type": "stream",
     "text": [
      "Requirement already satisfied: jupyterthemes in c:\\users\\sujit\\onedrive\\desktop\\nlp\\env\\lib\\site-packages (0.20.0)\n",
      "Requirement already satisfied: notebook>=5.6.0 in c:\\users\\sujit\\onedrive\\desktop\\nlp\\env\\lib\\site-packages (from jupyterthemes) (6.0.3)\n",
      "Requirement already satisfied: matplotlib>=1.4.3 in c:\\users\\sujit\\onedrive\\desktop\\nlp\\env\\lib\\site-packages (from jupyterthemes) (3.2.2)\n",
      "Requirement already satisfied: lesscpy>=0.11.2 in c:\\users\\sujit\\onedrive\\desktop\\nlp\\env\\lib\\site-packages (from jupyterthemes) (0.14.0)\n",
      "Requirement already satisfied: jupyter-core in c:\\users\\sujit\\onedrive\\desktop\\nlp\\env\\lib\\site-packages (from jupyterthemes) (4.6.3)\n",
      "Requirement already satisfied: ipython>=5.4.1 in c:\\users\\sujit\\onedrive\\desktop\\nlp\\env\\lib\\site-packages (from jupyterthemes) (7.16.1)\n",
      "Requirement already satisfied: terminado>=0.8.1 in c:\\users\\sujit\\onedrive\\desktop\\nlp\\env\\lib\\site-packages (from notebook>=5.6.0->jupyterthemes) (0.8.3)\n",
      "Requirement already satisfied: nbformat in c:\\users\\sujit\\onedrive\\desktop\\nlp\\env\\lib\\site-packages (from notebook>=5.6.0->jupyterthemes) (5.0.7)\n",
      "Requirement already satisfied: nbconvert in c:\\users\\sujit\\onedrive\\desktop\\nlp\\env\\lib\\site-packages (from notebook>=5.6.0->jupyterthemes) (5.6.1)\n",
      "Requirement already satisfied: ipython-genutils in c:\\users\\sujit\\onedrive\\desktop\\nlp\\env\\lib\\site-packages (from notebook>=5.6.0->jupyterthemes) (0.2.0)\n",
      "Requirement already satisfied: jupyter-client>=5.3.4 in c:\\users\\sujit\\onedrive\\desktop\\nlp\\env\\lib\\site-packages (from notebook>=5.6.0->jupyterthemes) (6.1.5)\n",
      "Requirement already satisfied: traitlets>=4.2.1 in c:\\users\\sujit\\onedrive\\desktop\\nlp\\env\\lib\\site-packages (from notebook>=5.6.0->jupyterthemes) (4.3.3)\n",
      "Requirement already satisfied: pyzmq>=17 in c:\\users\\sujit\\onedrive\\desktop\\nlp\\env\\lib\\site-packages (from notebook>=5.6.0->jupyterthemes) (19.0.1)\n",
      "Requirement already satisfied: jinja2 in c:\\users\\sujit\\onedrive\\desktop\\nlp\\env\\lib\\site-packages (from notebook>=5.6.0->jupyterthemes) (2.11.2)\n",
      "Requirement already satisfied: Send2Trash in c:\\users\\sujit\\onedrive\\desktop\\nlp\\env\\lib\\site-packages (from notebook>=5.6.0->jupyterthemes) (1.5.0)\n",
      "Requirement already satisfied: ipykernel in c:\\users\\sujit\\onedrive\\desktop\\nlp\\env\\lib\\site-packages (from notebook>=5.6.0->jupyterthemes) (5.3.2)\n",
      "Requirement already satisfied: prometheus-client in c:\\users\\sujit\\onedrive\\desktop\\nlp\\env\\lib\\site-packages (from notebook>=5.6.0->jupyterthemes) (0.8.0)\n",
      "Requirement already satisfied: tornado>=5.0 in c:\\users\\sujit\\onedrive\\desktop\\nlp\\env\\lib\\site-packages (from notebook>=5.6.0->jupyterthemes) (6.0.4)\n",
      "Requirement already satisfied: python-dateutil>=2.1 in c:\\users\\sujit\\onedrive\\desktop\\nlp\\env\\lib\\site-packages (from matplotlib>=1.4.3->jupyterthemes) (2.8.1)\n",
      "Requirement already satisfied: cycler>=0.10 in c:\\users\\sujit\\onedrive\\desktop\\nlp\\env\\lib\\site-packages (from matplotlib>=1.4.3->jupyterthemes) (0.10.0)\n",
      "Requirement already satisfied: kiwisolver>=1.0.1 in c:\\users\\sujit\\onedrive\\desktop\\nlp\\env\\lib\\site-packages (from matplotlib>=1.4.3->jupyterthemes) (1.2.0)\n",
      "Requirement already satisfied: pyparsing!=2.0.4,!=2.1.2,!=2.1.6,>=2.0.1 in c:\\users\\sujit\\onedrive\\desktop\\nlp\\env\\lib\\site-packages (from matplotlib>=1.4.3->jupyterthemes) (2.4.7)\n",
      "Requirement already satisfied: numpy>=1.11 in c:\\users\\sujit\\onedrive\\desktop\\nlp\\env\\lib\\site-packages (from matplotlib>=1.4.3->jupyterthemes) (1.19.0)\n",
      "Requirement already satisfied: ply in c:\\users\\sujit\\onedrive\\desktop\\nlp\\env\\lib\\site-packages (from lesscpy>=0.11.2->jupyterthemes) (3.11)\n",
      "Requirement already satisfied: six in c:\\users\\sujit\\onedrive\\desktop\\nlp\\env\\lib\\site-packages (from lesscpy>=0.11.2->jupyterthemes) (1.15.0)\n",
      "Requirement already satisfied: pywin32>=1.0; sys_platform == \"win32\" in c:\\users\\sujit\\onedrive\\desktop\\nlp\\env\\lib\\site-packages (from jupyter-core->jupyterthemes) (228)\n",
      "Requirement already satisfied: jedi>=0.10 in c:\\users\\sujit\\onedrive\\desktop\\nlp\\env\\lib\\site-packages (from ipython>=5.4.1->jupyterthemes) (0.17.1)\n",
      "Requirement already satisfied: setuptools>=18.5 in c:\\users\\sujit\\onedrive\\desktop\\nlp\\env\\lib\\site-packages (from ipython>=5.4.1->jupyterthemes) (49.1.2)\n",
      "Requirement already satisfied: pickleshare in c:\\users\\sujit\\onedrive\\desktop\\nlp\\env\\lib\\site-packages (from ipython>=5.4.1->jupyterthemes) (0.7.5)\n",
      "Requirement already satisfied: decorator in c:\\users\\sujit\\onedrive\\desktop\\nlp\\env\\lib\\site-packages (from ipython>=5.4.1->jupyterthemes) (4.4.2)\n",
      "Requirement already satisfied: pygments in c:\\users\\sujit\\onedrive\\desktop\\nlp\\env\\lib\\site-packages (from ipython>=5.4.1->jupyterthemes) (2.6.1)\n",
      "Requirement already satisfied: colorama; sys_platform == \"win32\" in c:\\users\\sujit\\onedrive\\desktop\\nlp\\env\\lib\\site-packages (from ipython>=5.4.1->jupyterthemes) (0.4.3)\n",
      "Requirement already satisfied: backcall in c:\\users\\sujit\\onedrive\\desktop\\nlp\\env\\lib\\site-packages (from ipython>=5.4.1->jupyterthemes) (0.2.0)\n",
      "Requirement already satisfied: prompt-toolkit!=3.0.0,!=3.0.1,<3.1.0,>=2.0.0 in c:\\users\\sujit\\onedrive\\desktop\\nlp\\env\\lib\\site-packages (from ipython>=5.4.1->jupyterthemes) (3.0.5)\n",
      "Requirement already satisfied: pywinpty>=0.5; os_name == \"nt\" in c:\\users\\sujit\\onedrive\\desktop\\nlp\\env\\lib\\site-packages (from terminado>=0.8.1->notebook>=5.6.0->jupyterthemes) (0.5.7)\n",
      "Requirement already satisfied: jsonschema!=2.5.0,>=2.4 in c:\\users\\sujit\\onedrive\\desktop\\nlp\\env\\lib\\site-packages (from nbformat->notebook>=5.6.0->jupyterthemes) (3.2.0)\n",
      "Requirement already satisfied: defusedxml in c:\\users\\sujit\\onedrive\\desktop\\nlp\\env\\lib\\site-packages (from nbconvert->notebook>=5.6.0->jupyterthemes) (0.6.0)\n",
      "Requirement already satisfied: testpath in c:\\users\\sujit\\onedrive\\desktop\\nlp\\env\\lib\\site-packages (from nbconvert->notebook>=5.6.0->jupyterthemes) (0.4.4)\n",
      "Requirement already satisfied: mistune<2,>=0.8.1 in c:\\users\\sujit\\onedrive\\desktop\\nlp\\env\\lib\\site-packages (from nbconvert->notebook>=5.6.0->jupyterthemes) (0.8.4)\n",
      "Requirement already satisfied: entrypoints>=0.2.2 in c:\\users\\sujit\\onedrive\\desktop\\nlp\\env\\lib\\site-packages (from nbconvert->notebook>=5.6.0->jupyterthemes) (0.3)\n",
      "Requirement already satisfied: bleach in c:\\users\\sujit\\onedrive\\desktop\\nlp\\env\\lib\\site-packages (from nbconvert->notebook>=5.6.0->jupyterthemes) (3.1.5)\n",
      "Requirement already satisfied: pandocfilters>=1.4.1 in c:\\users\\sujit\\onedrive\\desktop\\nlp\\env\\lib\\site-packages (from nbconvert->notebook>=5.6.0->jupyterthemes) (1.4.2)\n",
      "Requirement already satisfied: MarkupSafe>=0.23 in c:\\users\\sujit\\onedrive\\desktop\\nlp\\env\\lib\\site-packages (from jinja2->notebook>=5.6.0->jupyterthemes) (1.1.1)\n",
      "Requirement already satisfied: parso<0.8.0,>=0.7.0 in c:\\users\\sujit\\onedrive\\desktop\\nlp\\env\\lib\\site-packages (from jedi>=0.10->ipython>=5.4.1->jupyterthemes) (0.7.0)\n",
      "Requirement already satisfied: wcwidth in c:\\users\\sujit\\onedrive\\desktop\\nlp\\env\\lib\\site-packages (from prompt-toolkit!=3.0.0,!=3.0.1,<3.1.0,>=2.0.0->ipython>=5.4.1->jupyterthemes) (0.2.5)\n",
      "Requirement already satisfied: attrs>=17.4.0 in c:\\users\\sujit\\onedrive\\desktop\\nlp\\env\\lib\\site-packages (from jsonschema!=2.5.0,>=2.4->nbformat->notebook>=5.6.0->jupyterthemes) (19.3.0)\n",
      "Requirement already satisfied: pyrsistent>=0.14.0 in c:\\users\\sujit\\onedrive\\desktop\\nlp\\env\\lib\\site-packages (from jsonschema!=2.5.0,>=2.4->nbformat->notebook>=5.6.0->jupyterthemes) (0.16.0)\n",
      "Requirement already satisfied: importlib-metadata; python_version < \"3.8\" in c:\\users\\sujit\\onedrive\\desktop\\nlp\\env\\lib\\site-packages (from jsonschema!=2.5.0,>=2.4->nbformat->notebook>=5.6.0->jupyterthemes) (1.7.0)\n",
      "Requirement already satisfied: webencodings in c:\\users\\sujit\\onedrive\\desktop\\nlp\\env\\lib\\site-packages (from bleach->nbconvert->notebook>=5.6.0->jupyterthemes) (0.5.1)\n",
      "Requirement already satisfied: packaging in c:\\users\\sujit\\onedrive\\desktop\\nlp\\env\\lib\\site-packages (from bleach->nbconvert->notebook>=5.6.0->jupyterthemes) (20.4)\n",
      "Requirement already satisfied: zipp>=0.5 in c:\\users\\sujit\\onedrive\\desktop\\nlp\\env\\lib\\site-packages (from importlib-metadata; python_version < \"3.8\"->jsonschema!=2.5.0,>=2.4->nbformat->notebook>=5.6.0->jupyterthemes) (3.1.0)\n"
     ]
    }
   ],
   "source": [
    "!pip install jupyterthemes"
   ]
  },
  {
   "cell_type": "code",
   "execution_count": 14,
   "metadata": {},
   "outputs": [],
   "source": [
    "!jt -t oceans16"
   ]
  },
  {
   "cell_type": "code",
   "execution_count": null,
   "metadata": {},
   "outputs": [],
   "source": []
  }
 ],
 "metadata": {
  "kernelspec": {
   "display_name": "Python 3",
   "language": "python",
   "name": "python3"
  },
  "language_info": {
   "codemirror_mode": {
    "name": "ipython",
    "version": 3
   },
   "file_extension": ".py",
   "mimetype": "text/x-python",
   "name": "python",
   "nbconvert_exporter": "python",
   "pygments_lexer": "ipython3",
   "version": "3.7.3"
  }
 },
 "nbformat": 4,
 "nbformat_minor": 4
}
