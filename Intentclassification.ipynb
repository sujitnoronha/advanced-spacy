{
 "cells": [
  {
   "cell_type": "code",
   "execution_count": 1,
   "metadata": {},
   "outputs": [],
   "source": [
    "#Intent classification using rasa"
   ]
  },
  {
   "cell_type": "code",
   "execution_count": 1,
   "metadata": {},
   "outputs": [
    {
     "name": "stdout",
     "output_type": "stream",
     "text": [
      "Requirement already satisfied: rasa_nlu in c:\\users\\sujit\\onedrive\\desktop\\nlp\\env\\lib\\site-packages (0.15.1)\n",
      "Requirement already satisfied: boto3~=1.9 in c:\\users\\sujit\\onedrive\\desktop\\nlp\\env\\lib\\site-packages (from rasa_nlu) (1.14.20)\n",
      "Requirement already satisfied: gevent~=1.3 in c:\\users\\sujit\\onedrive\\desktop\\nlp\\env\\lib\\site-packages (from rasa_nlu) (1.5.0)\n",
      "Requirement already satisfied: requests~=2.20 in c:\\users\\sujit\\onedrive\\desktop\\nlp\\env\\lib\\site-packages (from rasa_nlu) (2.24.0)\n",
      "Requirement already satisfied: klein~=17.10 in c:\\users\\sujit\\onedrive\\desktop\\nlp\\env\\lib\\site-packages (from rasa_nlu) (17.10.0)\n",
      "Requirement already satisfied: numpy>=1.16 in c:\\users\\sujit\\onedrive\\desktop\\nlp\\env\\lib\\site-packages (from rasa_nlu) (1.19.0)\n",
      "Requirement already satisfied: packaging~=18.0 in c:\\users\\sujit\\onedrive\\desktop\\nlp\\env\\lib\\site-packages (from rasa_nlu) (18.0)\n",
      "Requirement already satisfied: coloredlogs~=10.0 in c:\\users\\sujit\\onedrive\\desktop\\nlp\\env\\lib\\site-packages (from rasa_nlu) (10.0)\n",
      "Requirement already satisfied: matplotlib~=2.2 in c:\\users\\sujit\\onedrive\\desktop\\nlp\\env\\lib\\site-packages (from rasa_nlu) (2.2.5)\n",
      "Requirement already satisfied: ruamel.yaml~=0.15.7 in c:\\users\\sujit\\onedrive\\desktop\\nlp\\env\\lib\\site-packages (from rasa_nlu) (0.15.100)\n",
      "Requirement already satisfied: jsonschema~=2.6 in c:\\users\\sujit\\onedrive\\desktop\\nlp\\env\\lib\\site-packages (from rasa_nlu) (2.6.0)\n",
      "Requirement already satisfied: typing~=3.6 in c:\\users\\sujit\\onedrive\\desktop\\nlp\\env\\lib\\site-packages (from rasa_nlu) (3.7.4.1)\n",
      "Requirement already satisfied: scikit-learn~=0.20.2 in c:\\users\\sujit\\onedrive\\desktop\\nlp\\env\\lib\\site-packages (from rasa_nlu) (0.20.4)\n",
      "Requirement already satisfied: cloudpickle~=0.6.1 in c:\\users\\sujit\\onedrive\\desktop\\nlp\\env\\lib\\site-packages (from rasa_nlu) (0.6.1)\n",
      "Requirement already satisfied: tqdm~=4.19 in c:\\users\\sujit\\onedrive\\desktop\\nlp\\env\\lib\\site-packages (from rasa_nlu) (4.47.0)\n",
      "Requirement already satisfied: future~=0.17.1 in c:\\users\\sujit\\onedrive\\desktop\\nlp\\env\\lib\\site-packages (from rasa_nlu) (0.17.1)\n",
      "Requirement already satisfied: simplejson~=3.13 in c:\\users\\sujit\\onedrive\\desktop\\nlp\\env\\lib\\site-packages (from rasa_nlu) (3.17.0)\n",
      "Requirement already satisfied: botocore<1.18.0,>=1.17.20 in c:\\users\\sujit\\onedrive\\desktop\\nlp\\env\\lib\\site-packages (from boto3~=1.9->rasa_nlu) (1.17.20)\n",
      "Requirement already satisfied: s3transfer<0.4.0,>=0.3.0 in c:\\users\\sujit\\onedrive\\desktop\\nlp\\env\\lib\\site-packages (from boto3~=1.9->rasa_nlu) (0.3.3)\n",
      "Requirement already satisfied: jmespath<1.0.0,>=0.7.1 in c:\\users\\sujit\\onedrive\\desktop\\nlp\\env\\lib\\site-packages (from boto3~=1.9->rasa_nlu) (0.10.0)\n",
      "Requirement already satisfied: cffi>=1.12.2; platform_python_implementation == \"CPython\" and sys_platform == \"win32\" in c:\\users\\sujit\\onedrive\\desktop\\nlp\\env\\lib\\site-packages (from gevent~=1.3->rasa_nlu) (1.14.0)\n",
      "Requirement already satisfied: greenlet>=0.4.14; platform_python_implementation == \"CPython\" in c:\\users\\sujit\\onedrive\\desktop\\nlp\\env\\lib\\site-packages (from gevent~=1.3->rasa_nlu) (0.4.16)\n",
      "Requirement already satisfied: chardet<4,>=3.0.2 in c:\\users\\sujit\\onedrive\\desktop\\nlp\\env\\lib\\site-packages (from requests~=2.20->rasa_nlu) (3.0.4)\n",
      "Requirement already satisfied: urllib3!=1.25.0,!=1.25.1,<1.26,>=1.21.1 in c:\\users\\sujit\\onedrive\\desktop\\nlp\\env\\lib\\site-packages (from requests~=2.20->rasa_nlu) (1.25.9)\n",
      "Requirement already satisfied: certifi>=2017.4.17 in c:\\users\\sujit\\onedrive\\desktop\\nlp\\env\\lib\\site-packages (from requests~=2.20->rasa_nlu) (2020.6.20)\n",
      "Requirement already satisfied: idna<3,>=2.5 in c:\\users\\sujit\\onedrive\\desktop\\nlp\\env\\lib\\site-packages (from requests~=2.20->rasa_nlu) (2.10)\n",
      "Requirement already satisfied: six in c:\\users\\sujit\\onedrive\\desktop\\nlp\\env\\lib\\site-packages (from klein~=17.10->rasa_nlu) (1.15.0)\n",
      "Requirement already satisfied: Twisted>=15.5 in c:\\users\\sujit\\onedrive\\desktop\\nlp\\env\\lib\\site-packages (from klein~=17.10->rasa_nlu) (20.3.0)\n",
      "Requirement already satisfied: incremental in c:\\users\\sujit\\onedrive\\desktop\\nlp\\env\\lib\\site-packages (from klein~=17.10->rasa_nlu) (17.5.0)\n",
      "Requirement already satisfied: werkzeug in c:\\users\\sujit\\onedrive\\desktop\\nlp\\env\\lib\\site-packages (from klein~=17.10->rasa_nlu) (1.0.1)\n",
      "Requirement already satisfied: pyparsing>=2.0.2 in c:\\users\\sujit\\onedrive\\desktop\\nlp\\env\\lib\\site-packages (from packaging~=18.0->rasa_nlu) (2.4.7)\n",
      "Requirement already satisfied: humanfriendly>=4.7 in c:\\users\\sujit\\onedrive\\desktop\\nlp\\env\\lib\\site-packages (from coloredlogs~=10.0->rasa_nlu) (8.2)\n",
      "Requirement already satisfied: colorama; sys_platform == \"win32\" in c:\\users\\sujit\\onedrive\\desktop\\nlp\\env\\lib\\site-packages (from coloredlogs~=10.0->rasa_nlu) (0.4.3)\n",
      "Requirement already satisfied: cycler>=0.10 in c:\\users\\sujit\\onedrive\\desktop\\nlp\\env\\lib\\site-packages (from matplotlib~=2.2->rasa_nlu) (0.10.0)\n",
      "Requirement already satisfied: python-dateutil>=2.1 in c:\\users\\sujit\\onedrive\\desktop\\nlp\\env\\lib\\site-packages (from matplotlib~=2.2->rasa_nlu) (2.8.1)\n",
      "Requirement already satisfied: pytz in c:\\users\\sujit\\onedrive\\desktop\\nlp\\env\\lib\\site-packages (from matplotlib~=2.2->rasa_nlu) (2020.1)\n",
      "Requirement already satisfied: kiwisolver>=1.0.1 in c:\\users\\sujit\\onedrive\\desktop\\nlp\\env\\lib\\site-packages (from matplotlib~=2.2->rasa_nlu) (1.2.0)\n",
      "Requirement already satisfied: scipy>=0.13.3 in c:\\users\\sujit\\onedrive\\desktop\\nlp\\env\\lib\\site-packages (from scikit-learn~=0.20.2->rasa_nlu) (1.5.1)\n",
      "Requirement already satisfied: docutils<0.16,>=0.10 in c:\\users\\sujit\\onedrive\\desktop\\nlp\\env\\lib\\site-packages (from botocore<1.18.0,>=1.17.20->boto3~=1.9->rasa_nlu) (0.15.2)\n",
      "Requirement already satisfied: pycparser in c:\\users\\sujit\\onedrive\\desktop\\nlp\\env\\lib\\site-packages (from cffi>=1.12.2; platform_python_implementation == \"CPython\" and sys_platform == \"win32\"->gevent~=1.3->rasa_nlu) (2.20)\n",
      "Requirement already satisfied: zope.interface>=4.4.2 in c:\\users\\sujit\\onedrive\\desktop\\nlp\\env\\lib\\site-packages (from Twisted>=15.5->klein~=17.10->rasa_nlu) (5.1.0)\n",
      "Requirement already satisfied: constantly>=15.1 in c:\\users\\sujit\\onedrive\\desktop\\nlp\\env\\lib\\site-packages (from Twisted>=15.5->klein~=17.10->rasa_nlu) (15.1.0)\n",
      "Requirement already satisfied: PyHamcrest!=1.10.0,>=1.9.0 in c:\\users\\sujit\\onedrive\\desktop\\nlp\\env\\lib\\site-packages (from Twisted>=15.5->klein~=17.10->rasa_nlu) (2.0.2)\n",
      "Requirement already satisfied: Automat>=0.3.0 in c:\\users\\sujit\\onedrive\\desktop\\nlp\\env\\lib\\site-packages (from Twisted>=15.5->klein~=17.10->rasa_nlu) (20.2.0)\n",
      "Requirement already satisfied: attrs>=19.2.0 in c:\\users\\sujit\\onedrive\\desktop\\nlp\\env\\lib\\site-packages (from Twisted>=15.5->klein~=17.10->rasa_nlu) (19.3.0)\n",
      "Requirement already satisfied: hyperlink>=17.1.1 in c:\\users\\sujit\\onedrive\\desktop\\nlp\\env\\lib\\site-packages (from Twisted>=15.5->klein~=17.10->rasa_nlu) (19.0.0)\n",
      "Requirement already satisfied: pyreadline; sys_platform == \"win32\" in c:\\users\\sujit\\onedrive\\desktop\\nlp\\env\\lib\\site-packages (from humanfriendly>=4.7->coloredlogs~=10.0->rasa_nlu) (2.1)\n",
      "Requirement already satisfied: setuptools in c:\\users\\sujit\\onedrive\\desktop\\nlp\\env\\lib\\site-packages (from zope.interface>=4.4.2->Twisted>=15.5->klein~=17.10->rasa_nlu) (49.1.2)\n"
     ]
    }
   ],
   "source": [
    "!pip install rasa_nlu"
   ]
  },
  {
   "cell_type": "code",
   "execution_count": 2,
   "metadata": {},
   "outputs": [],
   "source": [
    "from rasa_nlu.training_data import load_data"
   ]
  },
  {
   "cell_type": "code",
   "execution_count": 3,
   "metadata": {},
   "outputs": [],
   "source": [
    "from rasa_nlu.config import RasaNLUModelConfig \n",
    "from rasa_nlu.model import Trainer\n",
    "from rasa_nlu import config"
   ]
  },
  {
   "cell_type": "code",
   "execution_count": 4,
   "metadata": {},
   "outputs": [],
   "source": [
    "train = load_data('demo-rasa.json')"
   ]
  },
  {
   "cell_type": "code",
   "execution_count": 5,
   "metadata": {},
   "outputs": [
    {
     "name": "stdout",
     "output_type": "stream",
     "text": [
      "Requirement already satisfied: sklearn_crfsuite in c:\\users\\sujit\\onedrive\\desktop\\nlp\\env\\lib\\site-packages (0.3.6)\n",
      "Requirement already satisfied: six in c:\\users\\sujit\\onedrive\\desktop\\nlp\\env\\lib\\site-packages (from sklearn_crfsuite) (1.15.0)\n",
      "Requirement already satisfied: python-crfsuite>=0.8.3 in c:\\users\\sujit\\onedrive\\desktop\\nlp\\env\\lib\\site-packages (from sklearn_crfsuite) (0.9.7)\n",
      "Requirement already satisfied: tqdm>=2.0 in c:\\users\\sujit\\onedrive\\desktop\\nlp\\env\\lib\\site-packages (from sklearn_crfsuite) (4.47.0)\n",
      "Requirement already satisfied: tabulate in c:\\users\\sujit\\onedrive\\desktop\\nlp\\env\\lib\\site-packages (from sklearn_crfsuite) (0.8.7)\n"
     ]
    }
   ],
   "source": [
    "!pip install sklearn_crfsuite"
   ]
  },
  {
   "cell_type": "code",
   "execution_count": 6,
   "metadata": {},
   "outputs": [],
   "source": [
    "trainer = Trainer(config.load('config_spacy.yml'))"
   ]
  },
  {
   "cell_type": "code",
   "execution_count": 7,
   "metadata": {},
   "outputs": [
    {
     "name": "stdout",
     "output_type": "stream",
     "text": [
      "Fitting 2 folds for each of 6 candidates, totalling 12 fits\n"
     ]
    },
    {
     "name": "stderr",
     "output_type": "stream",
     "text": [
      "[Parallel(n_jobs=1)]: Using backend SequentialBackend with 1 concurrent workers.\n",
      "c:\\users\\sujit\\onedrive\\desktop\\nlp\\env\\lib\\site-packages\\sklearn\\metrics\\classification.py:1143: UndefinedMetricWarning: F-score is ill-defined and being set to 0.0 in labels with no predicted samples.\n",
      "  'precision', 'predicted', average, warn_for)\n",
      "c:\\users\\sujit\\onedrive\\desktop\\nlp\\env\\lib\\site-packages\\sklearn\\metrics\\classification.py:1143: UndefinedMetricWarning: F-score is ill-defined and being set to 0.0 in labels with no predicted samples.\n",
      "  'precision', 'predicted', average, warn_for)\n",
      "c:\\users\\sujit\\onedrive\\desktop\\nlp\\env\\lib\\site-packages\\sklearn\\metrics\\classification.py:1143: UndefinedMetricWarning: F-score is ill-defined and being set to 0.0 in labels with no predicted samples.\n",
      "  'precision', 'predicted', average, warn_for)\n",
      "c:\\users\\sujit\\onedrive\\desktop\\nlp\\env\\lib\\site-packages\\sklearn\\metrics\\classification.py:1143: UndefinedMetricWarning: F-score is ill-defined and being set to 0.0 in labels with no predicted samples.\n",
      "  'precision', 'predicted', average, warn_for)\n",
      "c:\\users\\sujit\\onedrive\\desktop\\nlp\\env\\lib\\site-packages\\sklearn\\metrics\\classification.py:1143: UndefinedMetricWarning: F-score is ill-defined and being set to 0.0 in labels with no predicted samples.\n",
      "  'precision', 'predicted', average, warn_for)\n",
      "c:\\users\\sujit\\onedrive\\desktop\\nlp\\env\\lib\\site-packages\\sklearn\\metrics\\classification.py:1143: UndefinedMetricWarning: F-score is ill-defined and being set to 0.0 in labels with no predicted samples.\n",
      "  'precision', 'predicted', average, warn_for)\n",
      "[Parallel(n_jobs=1)]: Done  12 out of  12 | elapsed:    0.0s finished\n"
     ]
    },
    {
     "data": {
      "text/plain": [
       "<rasa_nlu.model.Interpreter at 0x1a0d859e9e8>"
      ]
     },
     "execution_count": 7,
     "metadata": {},
     "output_type": "execute_result"
    }
   ],
   "source": [
    "trainer.train(train)"
   ]
  },
  {
   "cell_type": "code",
   "execution_count": 9,
   "metadata": {},
   "outputs": [],
   "source": [
    "model_directory = trainer.persist('/projects/')"
   ]
  },
  {
   "cell_type": "code",
   "execution_count": 11,
   "metadata": {},
   "outputs": [],
   "source": [
    "from rasa_nlu.model import Metadata, Interpreter"
   ]
  },
  {
   "cell_type": "raw",
   "metadata": {},
   "source": [
    "interpreter = Interpreter.load(model_directory)"
   ]
  },
  {
   "cell_type": "code",
   "execution_count": 17,
   "metadata": {},
   "outputs": [],
   "source": [
    "interpreter = Interpreter.load(model_directory)"
   ]
  },
  {
   "cell_type": "code",
   "execution_count": 19,
   "metadata": {},
   "outputs": [
    {
     "data": {
      "text/plain": [
       "{'intent': {'name': 'goodbye', 'confidence': 0.4688390890101585},\n",
       " 'entities': [],\n",
       " 'intent_ranking': [{'name': 'goodbye', 'confidence': 0.4688390890101585},\n",
       "  {'name': 'greet', 'confidence': 0.1640189696808652},\n",
       "  {'name': 'restaurant_search', 'confidence': 0.1496239977170789},\n",
       "  {'name': 'affirm', 'confidence': 0.10113203814869696},\n",
       "  {'name': 'chitchat/ask_name', 'confidence': 0.059108522889785096},\n",
       "  {'name': 'chitchat/ask_weather', 'confidence': 0.05727738255341534}],\n",
       " 'text': 'bye tom'}"
      ]
     },
     "execution_count": 19,
     "metadata": {},
     "output_type": "execute_result"
    }
   ],
   "source": [
    "interpreter.parse(u\"bye tom\")"
   ]
  },
  {
   "cell_type": "code",
   "execution_count": null,
   "metadata": {},
   "outputs": [],
   "source": []
  }
 ],
 "metadata": {
  "kernelspec": {
   "display_name": "Python 3",
   "language": "python",
   "name": "python3"
  },
  "language_info": {
   "codemirror_mode": {
    "name": "ipython",
    "version": 3
   },
   "file_extension": ".py",
   "mimetype": "text/x-python",
   "name": "python",
   "nbconvert_exporter": "python",
   "pygments_lexer": "ipython3",
   "version": "3.7.3"
  }
 },
 "nbformat": 4,
 "nbformat_minor": 4
}
